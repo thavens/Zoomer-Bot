{
 "cells": [
  {
   "cell_type": "code",
   "execution_count": 61,
   "metadata": {},
   "outputs": [],
   "source": [
    "from selenium import webdriver\n",
    "import time\n",
    "from selenium.webdriver.chrome.options import Options\n",
    "from selenium.webdriver.support.ui import WebDriverWait\n",
    "from selenium.webdriver.support import expected_conditions as EC\n",
    "from selenium.webdriver.common.by import By\n",
    "import pyautogui\n",
    "import config\n",
    "import win32gui\n",
    "import multiprocessing\n",
    "from fakeWebCam import Webcam"
   ]
  },
  {
   "cell_type": "code",
   "execution_count": 34,
   "metadata": {},
   "outputs": [],
   "source": [
    "#starts selenium will mic and webcam perms enabled and logs into zoom\n",
    "#signs into zoom online\n",
    "def open():\n",
    "    options = Options()\n",
    "    options.add_experimental_option(\"prefs\", { \\\n",
    "    \"profile.default_content_setting_values.media_stream_mic\": 1, \n",
    "    \"profile.default_content_setting_values.media_stream_camera\": 1,\n",
    "    \"download_restrictions\": 3\n",
    "  })\n",
    "    driver = webdriver.Chrome('./chromedriver.exe', options=options)\n",
    "    driver.get('https://fuhsd-org.zoom.us/signin')\n",
    "    elem = driver.find_element_by_xpath('//*[@id=\"identifierId\"]')\n",
    "    elem.send_keys(config.zoom_username + '\\n')\n",
    "    while(True):\n",
    "        try:\n",
    "            elem = driver.find_element_by_xpath('//*[@id=\"password\"]/div[1]/div/div[1]/input')\n",
    "            elem.send_keys(config.zoom_password + '\\n')\n",
    "        except:\n",
    "            time.sleep(1)\n",
    "        else:\n",
    "            break\n",
    "    time.sleep(3)\n",
    "    return driver\n",
    "\n",
    "#enters to zoom link or enters the zoom login id into zoom.us/join\n",
    "def prep_meeting(config, meeting):\n",
    "    if config.webcam:\n",
    "        start_cam()\n",
    "    if config.url:\n",
    "        meeting.get(config.url)\n",
    "    elif config.loginID:\n",
    "        meeting.get('https://zoom.us/j')\n",
    "        elem = meeting.find_element_by_xpath('//*[@id=\"join-confno\"]')\n",
    "        elem.send_keys(link + '\\n')\n",
    "    else:\n",
    "        raise ValueError()"
   ]
  },
  {
   "cell_type": "code",
   "execution_count": 6,
   "metadata": {},
   "outputs": [],
   "source": [
    "#uses threading or multiprocessing to startup pyvirtual cam and stream video/capture through to zoom\n",
    "def start_cam():\n",
    "    video = Webcam()\n",
    "    try:\n",
    "        get_ipython() #throws error if not ipython\n",
    "        from threading import Thread #ipythons does not work with multiprocessing\n",
    "        print('Warning: you are using a shell. For better speed use the interpreter.')\n",
    "        x = Thread(target=video.false_cam, daemon=True)\n",
    "    except:\n",
    "        from multiprocessing import Process #multiprocessing is faster but only works in interp.\n",
    "        x = Process(target=video.false_cam, daemon=True)\n",
    "    finally:\n",
    "        x.start()"
   ]
  },
  {
   "cell_type": "code",
   "execution_count": 2,
   "metadata": {},
   "outputs": [],
   "source": [
    "# cancels alert to open the zoom app if downloaded.\n",
    "#    note: selenium is not able to close alert because while it looks like a js alert it is in fact not\n",
    "# opens zoom meeting with webbrowser client\n",
    "# mutes mic by default and disables webcam if not enabled in config\n",
    "def enter_meeting(meeting):\n",
    "    def cancel():\n",
    "        cancel = None\n",
    "        while cancel is None:\n",
    "            cancel = pyautogui.locateOnScreen('./assets/Cancel.png', grayscale=True, confidence=.8)\n",
    "            time.sleep(1)\n",
    "        if cancel:\n",
    "            pyautogui.click(cancel)\n",
    "    \n",
    "    cancel()\n",
    "    try:\n",
    "        meeting.find_element_by_xpath('//*[@id=\"zoom-ui-frame\"]/div[2]/div/div[2]/h3[2]/a').click()\n",
    "    except:\n",
    "        xpath = '//*[@id=\"zoom-ui-frame\"]/div[2]/div/div[1]/div'\n",
    "        elem = WebDriverWait(meeting, 15).until(EC.presence_of_element_located((By.XPATH, xpath)))\n",
    "        elem.click()\n",
    "        cancel()\n",
    "        meeting.find_element_by_xpath('//*[@id=\"zoom-ui-frame\"]/div[2]/div/div[2]/h3[2]/a').click()\n",
    "    if not config.webcam:\n",
    "        meeting.find_element_by_xpath('//*[@id=\"video-icon\"]').click()\n",
    "    meeting.find_element_by_xpath('//*[@id=\"mic-icon\"]').click()\n",
    "    meeting.find_element_by_xpath('//*[@id=\"joinBtn\"]').click()\n"
   ]
  },
  {
   "cell_type": "code",
   "execution_count": 4,
   "metadata": {},
   "outputs": [],
   "source": [
    "# enters passcode if required\n",
    "# continually checks participant count to make sure to quit out of class on time\n",
    "# makes webdriver quit to exit meeting\n",
    "def maintain_meeting(config, meeting):\n",
    "    try:\n",
    "        time.sleep(2)\n",
    "        elem = meeting.find_element_by_xpath('//*[@id=\"inputpasscode\"]')\n",
    "        elem.send_keys(config.password + '\\n')\n",
    "        print('Meeting passcode entered')\n",
    "    except:\n",
    "        print('No meeting password was needed')\n",
    "    xpath = '//*[@id=\"wc-footer\"]/div/div[2]/button[1]/div/div/span/span'\n",
    "    while True:\n",
    "        try:\n",
    "            elem = WebDriverWait(meeting, 15).until(EC.presence_of_element_located((By.XPATH, xpath)))\n",
    "            break\n",
    "        except:\n",
    "            print('Could not get participant count element')\n",
    "    count = int(elem.get_attribute('innerHTML'))\n",
    "    old = count;\n",
    "    while(count + config.thresh > old):\n",
    "        print('Participants:', count)\n",
    "        old = count\n",
    "        time.sleep(5)\n",
    "        count = int(elem.get_attribute('innerHTML'))\n",
    "    meeting.quit()\n",
    "    print('Meeting complete!')"
   ]
  },
  {
   "cell_type": "code",
   "execution_count": 58,
   "metadata": {},
   "outputs": [],
   "source": [
    "#reassigns chrome driver's default webcam to OBS-camera\n",
    "#enables the use of virtual cam\n",
    "def default_webcam(meeting):\n",
    "    if not config.webcam:\n",
    "        return\n",
    "    meeting.get('chrome://settings/content/camera')\n",
    "    hwnd = win32gui.FindWindow(None, 'Settings - Camera - Google Chrome')\n",
    "    win32gui.SetForegroundWindow(hwnd)\n",
    "\n",
    "    time.sleep(1)\n",
    "    loc = pyautogui.locateOnScreen('./assets/DropDown.png', grayscale=True, confidence=.8)\n",
    "    pyautogui.click(loc)\n",
    "    loc = pyautogui.locateOnScreen('./assets/OBS-camera.png' grayscale=True, confidence=0.9)\n",
    "    pyautogui.click(loc)"
   ]
  },
  {
   "cell_type": "code",
   "execution_count": 35,
   "metadata": {},
   "outputs": [],
   "source": [
    "def start(config):\n",
    "    meeting = open()\n",
    "    default_webcam(meeting)\n",
    "    prep_meeting(config, meeting)\n",
    "    enter_meeting(meeting)\n",
    "    maintain_meeting(config, meeting)"
   ]
  },
  {
   "cell_type": "code",
   "execution_count": 1,
   "metadata": {},
   "outputs": [],
   "source": [
    "if __name__ == '__main__':\n",
    "    #config.url = insert test zoom link\n",
    "    #config.password = or zoom meeting password\n",
    "    #config.loginID = and zoom id\n",
    "    config.video_file = 'ex'\n",
    "    start(config)\n",
    "    "
   ]
  }
 ],
 "metadata": {
  "kernelspec": {
   "display_name": "Python 3",
   "language": "python",
   "name": "python3"
  },
  "language_info": {
   "codemirror_mode": {
    "name": "ipython",
    "version": 3
   },
   "file_extension": ".py",
   "mimetype": "text/x-python",
   "name": "python",
   "nbconvert_exporter": "python",
   "pygments_lexer": "ipython3",
   "version": "3.7.9"
  }
 },
 "nbformat": 4,
 "nbformat_minor": 4
}
