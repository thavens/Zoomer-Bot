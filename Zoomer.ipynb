{
 "cells": [
  {
   "cell_type": "code",
   "execution_count": 6,
   "metadata": {
    "scrolled": false
   },
   "outputs": [],
   "source": [
    "import subprocess\n",
    "import pyautogui\n",
    "import sys\n",
    "import os\n",
    "import time\n",
    "import pytesseract\n",
    "from PIL import Image\n",
    "import numpy as np\n",
    "import numpy.ma as ma\n",
    "import math\n",
    "import fakeWebCam\n",
    "\n",
    "loginID = '725 405 7950'\n",
    "password = '140287'\n",
    "thresh = 5 #how many or more people have to leave in 5 seconds to trigger logout"
   ]
  },
  {
   "cell_type": "code",
   "execution_count": null,
   "metadata": {
    "scrolled": true
   },
   "outputs": [
    {
     "name": "stdout",
     "output_type": "stream",
     "text": [
      "logging into zoom\n"
     ]
    }
   ],
   "source": [
    "print('logging into zoom')\n",
    "result = subprocess.run(['C:/Users/micha/AppData/Roaming/Zoom/bin/Zoom.exe'])\n",
    "time.sleep(0.5)\n",
    "joinButton = pyautogui.locateCenterOnScreen(os.getcwd() + '/assets/join.png', grayscale=True, confidence=0.9)\n",
    "pyautogui.click(joinButton)\n",
    "time.sleep(0.5)\n",
    "pyautogui.typewrite(loginID + '\\n')\n",
    "time.sleep(1)\n",
    "pyautogui.typewrite(password + '\\n')\n",
    "loginButton = pyautogui.locateCenterOnScreen(os.getcwd() + '/assets/login.png', grayscale=True, confidence=0.9)\n",
    "pyautogui.click(loginButton)\n",
    "\n",
    "bgFound = None\n",
    "while bgFound == None:\n",
    "    bgFound = pyautogui.locateCenterOnScreen(os.getcwd() + '/assets/bg.png', grayscale=True, confidence=1)\n",
    "    time.sleep(10)\n",
    "pyautogui.click(bgFound)"
   ]
  },
  {
   "cell_type": "code",
   "execution_count": 2,
   "metadata": {
    "scrolled": false
   },
   "outputs": [],
   "source": [
    "def startVideo():\n",
    "    try:\n",
    "        shell = get_ipython().__class__.__name__\n",
    "    x = threading.Thread(target=fakeWebCam.falseCam, args=(), daemon=True)\n",
    "    x.start()\n",
    "    time.sleep(3)\n",
    "    video = pyautogui.locateOnScreen(os.getcwd() + '/assets/startVideo.png', grayscale=True, confidence=0.9)\n",
    "    if video == None:\n",
    "        pyautogui.press('alt')\n",
    "        video = pyautogui.locateOnScreen(os.getcwd() + '/assets/startVideo.png', grayscale=True, confidence=0.9)\n",
    "    pyautogui.click(video[0] + video[2], video[1])\n",
    "    video = pyautogui.locateCenterOnScreen(os.getcwd() + '/assets/camName.png', grayscale=True, confidence=0.9)\n",
    "    pyautogui.click(video)\n",
    "    video = pyautogui.locateCenterOnScreen(os.getcwd() + '/assets/startVideo.png', grayscale=True, confidence=0.9)\n",
    "    pyautogui.click(video)"
   ]
  },
  {
   "cell_type": "code",
   "execution_count": 3,
   "metadata": {
    "scrolled": false
   },
   "outputs": [],
   "source": [
    "def breakout():\n",
    "    #1. enter breakout if available\n",
    "        #2. start loop to check for leave breakout\n",
    "    breakout = pyautogui.locateCenterOnScreen(os.getcwd() + '/assets/breakoutJoin.png', grayscale=True, confidence=0.9)\n",
    "    if breakout:\n",
    "        print('breakout')\n",
    "        pyautogui.click(breakout)\n",
    "        while True():\n",
    "            time.sleep(30)\n",
    "            leaveBreakout = pyautogui.locateCenterOnScreen(os.getcwd() + '/assets/breakoutLeave.png', grayscale=True, confidence=0.9)\n",
    "            if leaveBreakout:\n",
    "                pyautogui.click(leaveBreakout)\n",
    "                time.sleep(30)\n",
    "                return True\n",
    "    print('no breakout')\n",
    "    return False"
   ]
  },
  {
   "cell_type": "code",
   "execution_count": 4,
   "metadata": {
    "scrolled": false
   },
   "outputs": [],
   "source": [
    "def userCount():\n",
    "    #1. screenshot # of participants\n",
    "    #2. turn completely black and white\n",
    "    #3. save image as cap.png\n",
    "    #4. use tesseract to turn image to int\n",
    "    #5. return int value of participants\n",
    "    participantsLocation = pyautogui.locateCenterOnScreen(os.getcwd() + '/assets/participants.png', grayscale=True, confidence = 0.8)\n",
    "    if participantsLocation == None:\n",
    "        pyautogui.press('alt')\n",
    "        participantsLocation = pyautogui.locateCenterOnScreen(os.getcwd() + '/assets/participants.png', grayscale=True, confidence = 0.8)\n",
    "    people = pyautogui.screenshot()\n",
    "    people = people.crop((participantsLocation.x,\n",
    "                         participantsLocation.y-30,\n",
    "                         participantsLocation.x + 30,\n",
    "                         participantsLocation.y))\n",
    "    \n",
    "    data = np.asarray(people)\n",
    "    a = lambda a: int(np.mean(a))\n",
    "    data = np.apply_along_axis(a, -1, data)\n",
    "    data[ma.masked_greater(data, 130).mask] = 255\n",
    "    data[ma.masked_less_equal(data, 130).mask] = 0\n",
    "    data = 255 - data\n",
    "    data = data.flatten()\n",
    "    img = np.array([])\n",
    "    for i in data:\n",
    "        img = np.append(img, np.array([i, i, i], dtype=np.int32))\n",
    "    img = np.reshape(img, (30,30,3))\n",
    "    img = img.astype(np.uint8)\n",
    "    people = Image.fromarray(img)\n",
    "    people = people.resize((300, 300), Image.BILINEAR)\n",
    "    people.save(os.getcwd() + '/assets/cap.png')\n",
    "    \n",
    "    pytesseract.pytesseract.tesseract_cmd = r'C:/Program Files/Tesseract-OCR/tesseract.exe'\n",
    "    text = pytesseract.image_to_string(img, lang='eng', config='--psm 7 digits')\n",
    "    text = text[:text.index('\\n')]\n",
    "    return int(text)"
   ]
  },
  {
   "cell_type": "code",
   "execution_count": 8,
   "metadata": {
    "scrolled": true
   },
   "outputs": [
    {
     "name": "stdout",
     "output_type": "stream",
     "text": [
      "leaving meeting\n"
     ]
    }
   ],
   "source": [
    "def leave():\n",
    "    #click leave and confirm leave\n",
    "    print('leaving meeting')\n",
    "    leave = pyautogui.locateCenterOnScreen(os.getcwd() + '/assets/leave.png', grayscale=True, confidence=0.9)\n",
    "    if leave == None:\n",
    "        pyautogui.press('alt')\n",
    "        leave = pyautogui.locateCenterOnScreen(os.getcwd() + '/assets/leave.png', grayscale=True, confidence=0.9)\n",
    "    pyautogui.click(leave)\n",
    "    leave = pyautogui.locateCenterOnScreen(os.getcwd() + '/assets/leaveConfirm.png', grayscale=True, confidence=0.9)\n",
    "    pyautogui.click(leave)"
   ]
  },
  {
   "cell_type": "code",
   "execution_count": 10,
   "metadata": {
    "scrolled": true
   },
   "outputs": [
    {
     "name": "stdout",
     "output_type": "stream",
     "text": [
      "(640, 480)\n"
     ]
    },
    {
     "name": "stderr",
     "output_type": "stream",
     "text": [
      "Exception in thread Thread-877:\n",
      "Traceback (most recent call last):\n",
      "  File \"C:\\ProgramData\\Anaconda3\\lib\\threading.py\", line 926, in _bootstrap_inner\n",
      "    self.run()\n",
      "  File \"C:\\ProgramData\\Anaconda3\\lib\\threading.py\", line 870, in run\n",
      "    self._target(*self._args, **self._kwargs)\n",
      "  File \"C:\\Users\\micha\\github\\ZoomHandler\\fakeWebCam.py\", line 20, in falseCam\n",
      "    with pyvirtualcam.Camera(width=width, height=height, fps=fps, delay=50) as cam:\n",
      "  File \"C:\\ProgramData\\Anaconda3\\lib\\site-packages\\pyvirtualcam\\camera.py\", line 86, in __init__\n",
      "    _native_windows.start(width, height, fps, delay)\n",
      "RuntimeError: error starting virtual camera output\n",
      "\n"
     ]
    },
    {
     "name": "stdout",
     "output_type": "stream",
     "text": [
      "no breakout\n",
      "35 users\n",
      "no breakout\n",
      "35 users\n",
      "no breakout\n",
      "35 users\n",
      "no breakout\n",
      "35 users\n",
      "no breakout\n",
      "35 users\n",
      "no breakout\n",
      "35 users\n",
      "no breakout\n",
      "35 users\n",
      "no breakout\n",
      "35 users\n",
      "no breakout\n",
      "35 users\n",
      "no breakout\n",
      "35 users\n",
      "no breakout\n",
      "35 users\n",
      "no breakout\n",
      "35 users\n",
      "no breakout\n",
      "35 users\n",
      "no breakout\n",
      "35 users\n",
      "no breakout\n",
      "35 users\n",
      "no breakout\n",
      "35 users\n",
      "no breakout\n",
      "35 users\n",
      "no breakout\n",
      "35 users\n",
      "no breakout\n",
      "35 users\n",
      "no breakout\n",
      "35 users\n",
      "no breakout\n",
      "35 users\n",
      "no breakout\n",
      "35 users\n",
      "no breakout\n",
      "35 users\n",
      "no breakout\n",
      "35 users\n",
      "no breakout\n",
      "35 users\n",
      "no breakout\n",
      "35 users\n",
      "no breakout\n",
      "35 users\n",
      "no breakout\n",
      "35 users\n",
      "no breakout\n",
      "35 users\n",
      "no breakout\n",
      "35 users\n",
      "no breakout\n",
      "35 users\n",
      "no breakout\n",
      "35 users\n",
      "no breakout\n",
      "35 users\n",
      "no breakout\n",
      "35 users\n",
      "no breakout\n",
      "35 users\n",
      "no breakout\n",
      "35 users\n",
      "no breakout\n",
      "35 users\n",
      "no breakout\n",
      "35 users\n",
      "no breakout\n",
      "35 users\n",
      "no breakout\n",
      "35 users\n",
      "no breakout\n",
      "35 users\n",
      "no breakout\n",
      "35 users\n",
      "no breakout\n",
      "35 users\n",
      "no breakout\n",
      "35 users\n",
      "no breakout\n",
      "35 users\n",
      "no breakout\n",
      "35 users\n",
      "no breakout\n",
      "35 users\n",
      "no breakout\n",
      "35 users\n",
      "no breakout\n",
      "35 users\n",
      "no breakout\n",
      "35 users\n",
      "no breakout\n",
      "35 users\n",
      "no breakout\n",
      "35 users\n",
      "no breakout\n",
      "35 users\n",
      "no breakout\n",
      "35 users\n",
      "no breakout\n",
      "35 users\n",
      "no breakout\n",
      "35 users\n",
      "no breakout\n",
      "35 users\n",
      "no breakout\n",
      "35 users\n",
      "no breakout\n",
      "35 users\n",
      "no breakout\n",
      "35 users\n",
      "no breakout\n",
      "35 users\n",
      "no breakout\n",
      "35 users\n",
      "no breakout\n",
      "35 users\n",
      "no breakout\n",
      "35 users\n",
      "no breakout\n",
      "35 users\n",
      "no breakout\n",
      "35 users\n",
      "no breakout\n",
      "35 users\n",
      "no breakout\n",
      "35 users\n",
      "no breakout\n",
      "35 users\n",
      "no breakout\n",
      "35 users\n",
      "no breakout\n",
      "35 users\n",
      "no breakout\n",
      "35 users\n",
      "no breakout\n",
      "35 users\n",
      "no breakout\n",
      "35 users\n",
      "no breakout\n",
      "35 users\n",
      "no breakout\n",
      "35 users\n",
      "no breakout\n",
      "35 users\n",
      "no breakout\n",
      "35 users\n",
      "no breakout\n",
      "35 users\n",
      "no breakout\n",
      "35 users\n",
      "no breakout\n",
      "35 users\n",
      "no breakout\n",
      "35 users\n",
      "no breakout\n",
      "35 users\n",
      "no breakout\n",
      "35 users\n",
      "no breakout\n",
      "35 users\n",
      "no breakout\n",
      "35 users\n",
      "no breakout\n",
      "35 users\n",
      "no breakout\n",
      "35 users\n",
      "no breakout\n",
      "35 users\n",
      "no breakout\n",
      "35 users\n",
      "no breakout\n",
      "35 users\n",
      "no breakout\n",
      "35 users\n",
      "no breakout\n",
      "35 users\n",
      "no breakout\n",
      "35 users\n",
      "no breakout\n",
      "35 users\n",
      "no breakout\n",
      "35 users\n",
      "no breakout\n",
      "35 users\n",
      "no breakout\n",
      "35 users\n",
      "no breakout\n",
      "35 users\n",
      "no breakout\n",
      "35 users\n",
      "no breakout\n",
      "35 users\n",
      "no breakout\n",
      "35 users\n",
      "no breakout\n",
      "35 users\n",
      "no breakout\n",
      "35 users\n",
      "no breakout\n",
      "35 users\n",
      "no breakout\n",
      "35 users\n",
      "no breakout\n",
      "35 users\n",
      "no breakout\n",
      "35 users\n",
      "no breakout\n",
      "35 users\n",
      "no breakout\n",
      "35 users\n",
      "no breakout\n",
      "35 users\n",
      "no breakout\n",
      "35 users\n",
      "no breakout\n",
      "35 users\n",
      "no breakout\n",
      "35 users\n",
      "no breakout\n",
      "35 users\n",
      "no breakout\n",
      "35 users\n",
      "no breakout\n",
      "35 users\n",
      "no breakout\n",
      "35 users\n",
      "no breakout\n",
      "35 users\n",
      "no breakout\n",
      "35 users\n",
      "no breakout\n",
      "35 users\n",
      "no breakout\n",
      "35 users\n",
      "no breakout\n",
      "35 users\n",
      "no breakout\n",
      "35 users\n",
      "no breakout\n",
      "35 users\n",
      "no breakout\n",
      "35 users\n",
      "no breakout\n",
      "35 users\n",
      "no breakout\n",
      "15 users\n",
      "leaving meeting\n",
      "no breakout\n"
     ]
    },
    {
     "ename": "AttributeError",
     "evalue": "'NoneType' object has no attribute 'x'",
     "output_type": "error",
     "traceback": [
      "\u001b[1;31m---------------------------------------------------------------------------\u001b[0m",
      "\u001b[1;31mAttributeError\u001b[0m                            Traceback (most recent call last)",
      "\u001b[1;32m<ipython-input-10-04da0355382b>\u001b[0m in \u001b[0;36m<module>\u001b[1;34m\u001b[0m\n\u001b[0;32m      6\u001b[0m         \u001b[1;32mif\u001b[0m \u001b[0mbreakout\u001b[0m\u001b[1;33m(\u001b[0m\u001b[1;33m)\u001b[0m\u001b[1;33m:\u001b[0m\u001b[1;33m\u001b[0m\u001b[1;33m\u001b[0m\u001b[0m\n\u001b[0;32m      7\u001b[0m             \u001b[0mold\u001b[0m \u001b[1;33m=\u001b[0m \u001b[1;32mNone\u001b[0m\u001b[1;33m\u001b[0m\u001b[1;33m\u001b[0m\u001b[0m\n\u001b[1;32m----> 8\u001b[1;33m         \u001b[0mcount\u001b[0m \u001b[1;33m=\u001b[0m \u001b[0muserCount\u001b[0m\u001b[1;33m(\u001b[0m\u001b[1;33m)\u001b[0m\u001b[1;33m\u001b[0m\u001b[1;33m\u001b[0m\u001b[0m\n\u001b[0m\u001b[0;32m      9\u001b[0m         \u001b[0mprint\u001b[0m\u001b[1;33m(\u001b[0m\u001b[0mcount\u001b[0m\u001b[1;33m,\u001b[0m \u001b[1;34m'users'\u001b[0m\u001b[1;33m)\u001b[0m\u001b[1;33m\u001b[0m\u001b[1;33m\u001b[0m\u001b[0m\n\u001b[0;32m     10\u001b[0m         \u001b[1;32mif\u001b[0m \u001b[0mold\u001b[0m \u001b[1;33m!=\u001b[0m \u001b[1;32mNone\u001b[0m \u001b[1;32mand\u001b[0m \u001b[0mold\u001b[0m \u001b[1;33m-\u001b[0m \u001b[0mcount\u001b[0m \u001b[1;33m>\u001b[0m \u001b[0mthresh\u001b[0m\u001b[1;33m:\u001b[0m\u001b[1;33m\u001b[0m\u001b[1;33m\u001b[0m\u001b[0m\n",
      "\u001b[1;32m<ipython-input-4-ae6b383d96a6>\u001b[0m in \u001b[0;36muserCount\u001b[1;34m()\u001b[0m\n\u001b[0;32m     10\u001b[0m         \u001b[0mparticipantsLocation\u001b[0m \u001b[1;33m=\u001b[0m \u001b[0mpyautogui\u001b[0m\u001b[1;33m.\u001b[0m\u001b[0mlocateCenterOnScreen\u001b[0m\u001b[1;33m(\u001b[0m\u001b[0mos\u001b[0m\u001b[1;33m.\u001b[0m\u001b[0mgetcwd\u001b[0m\u001b[1;33m(\u001b[0m\u001b[1;33m)\u001b[0m \u001b[1;33m+\u001b[0m \u001b[1;34m'/assets/participants.png'\u001b[0m\u001b[1;33m,\u001b[0m \u001b[0mgrayscale\u001b[0m\u001b[1;33m=\u001b[0m\u001b[1;32mTrue\u001b[0m\u001b[1;33m,\u001b[0m \u001b[0mconfidence\u001b[0m \u001b[1;33m=\u001b[0m \u001b[1;36m0.8\u001b[0m\u001b[1;33m)\u001b[0m\u001b[1;33m\u001b[0m\u001b[1;33m\u001b[0m\u001b[0m\n\u001b[0;32m     11\u001b[0m     \u001b[0mpeople\u001b[0m \u001b[1;33m=\u001b[0m \u001b[0mpyautogui\u001b[0m\u001b[1;33m.\u001b[0m\u001b[0mscreenshot\u001b[0m\u001b[1;33m(\u001b[0m\u001b[1;33m)\u001b[0m\u001b[1;33m\u001b[0m\u001b[1;33m\u001b[0m\u001b[0m\n\u001b[1;32m---> 12\u001b[1;33m     people = people.crop((participantsLocation.x,\n\u001b[0m\u001b[0;32m     13\u001b[0m                          \u001b[0mparticipantsLocation\u001b[0m\u001b[1;33m.\u001b[0m\u001b[0my\u001b[0m\u001b[1;33m-\u001b[0m\u001b[1;36m30\u001b[0m\u001b[1;33m,\u001b[0m\u001b[1;33m\u001b[0m\u001b[1;33m\u001b[0m\u001b[0m\n\u001b[0;32m     14\u001b[0m                          \u001b[0mparticipantsLocation\u001b[0m\u001b[1;33m.\u001b[0m\u001b[0mx\u001b[0m \u001b[1;33m+\u001b[0m \u001b[1;36m30\u001b[0m\u001b[1;33m,\u001b[0m\u001b[1;33m\u001b[0m\u001b[1;33m\u001b[0m\u001b[0m\n",
      "\u001b[1;31mAttributeError\u001b[0m: 'NoneType' object has no attribute 'x'"
     ]
    },
    {
     "name": "stderr",
     "output_type": "stream",
     "text": [
      "Exception in thread Thread-6:\n",
      "Traceback (most recent call last):\n",
      "  File \"C:\\ProgramData\\Anaconda3\\lib\\threading.py\", line 926, in _bootstrap_inner\n",
      "    self.run()\n",
      "  File \"C:\\ProgramData\\Anaconda3\\lib\\threading.py\", line 870, in run\n",
      "    self._target(*self._args, **self._kwargs)\n",
      "  File \"C:\\Users\\micha\\github\\ZoomHandler\\fakeWebCam.py\", line 24, in falseCam\n",
      "    frame[:,:,:3] = cv2.resize (f, (width, height), interpolation=None)\n",
      "cv2.error: OpenCV(4.5.0) ..\\modules\\imgproc\\src\\resize.cpp:4051: error: (-215:Assertion failed) !ssize.empty() in function 'cv::resize'\n",
      "\n",
      "\n"
     ]
    }
   ],
   "source": [
    "if __name__ == '__main__':\n",
    "    startVideo()\n",
    "    old = None\n",
    "    while True:\n",
    "        time.sleep(5)\n",
    "        if breakout():\n",
    "            old = None\n",
    "        count = userCount()\n",
    "        print(count, 'users')\n",
    "        if old != None and old - count > thresh:\n",
    "            print('Users leaving')\n",
    "            leave()\n",
    "        old = count"
   ]
  },
  {
   "cell_type": "code",
   "execution_count": 11,
   "metadata": {
    "scrolled": false
   },
   "outputs": [
    {
     "data": {
      "text/plain": [
       "'ZMQInteractiveShell'"
      ]
     },
     "execution_count": 11,
     "metadata": {},
     "output_type": "execute_result"
    }
   ],
   "source": []
  },
  {
   "cell_type": "code",
   "execution_count": 73,
   "metadata": {
    "scrolled": false
   },
   "outputs": [],
   "source": []
  },
  {
   "cell_type": "code",
   "execution_count": 158,
   "metadata": {
    "scrolled": false
   },
   "outputs": [
    {
     "data": {
      "text/plain": [
       "\"leave = pyautogui.locateCenterOnScreen(os.getcwd() + '/assets/viewOptions.png', grayscale=True, confidence = 0.9)\\npyautogui.click(leave)\\ntime.sleep(0.01)\\nleave = pyautogui.locateCenterOnScreen(os.getcwd() + '/assets/requestRemoteControl.png', grayscale=True, confidence=0.9)\\npyautogui.click(leave)\\ntime.sleep(0.01)\\nwhile True:\\n    leave = pyautogui.locateCenterOnScreen(os.getcwd() + '/assets/request.png', grayscale=True, confidence=0.9)\\n    if leave:\\n        pyautogui.click(leave)\""
      ]
     },
     "execution_count": 158,
     "metadata": {},
     "output_type": "execute_result"
    }
   ],
   "source": [
    "'''leave = pyautogui.locateCenterOnScreen(os.getcwd() + '/assets/viewOptions.png', grayscale=True, confidence = 0.9)\n",
    "pyautogui.click(leave)\n",
    "time.sleep(0.01)\n",
    "leave = pyautogui.locateCenterOnScreen(os.getcwd() + '/assets/requestRemoteControl.png', grayscale=True, confidence=0.9)\n",
    "pyautogui.click(leave)\n",
    "time.sleep(0.01)\n",
    "while True:\n",
    "    leave = pyautogui.locateCenterOnScreen(os.getcwd() + '/assets/request.png', grayscale=True, confidence=0.9)\n",
    "    if leave:\n",
    "        pyautogui.click(leave)'''"
   ]
  },
  {
   "cell_type": "code",
   "execution_count": null,
   "metadata": {
    "scrolled": false
   },
   "outputs": [],
   "source": []
  },
  {
   "cell_type": "code",
   "execution_count": null,
   "metadata": {
    "scrolled": false
   },
   "outputs": [],
   "source": [
    "bgFound = None\n",
    "while bgFound == None:\n",
    "    bgFound = pyautogui.locateCenterOnScreen(os.getcwd() + '/assets/bg.png', grayscale=True, confidence=1)\n",
    "    time.sleep(10)\n",
    "pyautogui.click(bgFound)"
   ]
  },
  {
   "cell_type": "code",
   "execution_count": null,
   "metadata": {
    "scrolled": false
   },
   "outputs": [],
   "source": []
  }
 ],
 "metadata": {
  "kernelspec": {
   "display_name": "Python 3",
   "language": "python",
   "name": "python3"
  },
  "language_info": {
   "codemirror_mode": {
    "name": "ipython",
    "version": 3
   },
   "file_extension": ".py",
   "mimetype": "text/x-python",
   "name": "python",
   "nbconvert_exporter": "python",
   "pygments_lexer": "ipython3",
   "version": "3.7.9"
  }
 },
 "nbformat": 4,
 "nbformat_minor": 4
}
