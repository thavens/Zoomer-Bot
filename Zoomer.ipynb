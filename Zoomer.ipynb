{
 "cells": [
  {
   "cell_type": "code",
   "execution_count": 61,
   "metadata": {},
   "outputs": [],
   "source": [
    "from selenium import webdriver\n",
    "import time\n",
    "from selenium.webdriver.chrome.options import Options\n",
    "from selenium.webdriver.support.ui import WebDriverWait\n",
    "from selenium.webdriver.support import expected_conditions as EC\n",
    "from selenium.webdriver.common.by import By\n",
    "import pyautogui\n",
    "import config\n",
    "import win32gui"
   ]
  },
  {
   "cell_type": "code",
   "execution_count": 34,
   "metadata": {},
   "outputs": [],
   "source": [
    "def open():\n",
    "    options = Options()\n",
    "    options.add_experimental_option(\"prefs\", { \\\n",
    "    \"profile.default_content_setting_values.media_stream_mic\": 1, \n",
    "    \"profile.default_content_setting_values.media_stream_camera\": 1,\n",
    "    \"download_restrictions\": 3\n",
    "  })\n",
    "    options.add_argument(\"--disable-extensions\")\n",
    "    driver = webdriver.Chrome('./chromedriver.exe', options=options)\n",
    "    driver.get('https://fuhsd-org.zoom.us/signin')\n",
    "    elem = driver.find_element_by_xpath('//*[@id=\"identifierId\"]')\n",
    "    elem.send_keys(config.zoom_username + '\\n')\n",
    "    while(True):\n",
    "        try:\n",
    "            elem = driver.find_element_by_xpath('//*[@id=\"password\"]/div[1]/div/div[1]/input')\n",
    "            elem.send_keys(config.zoom_password + '\\n')\n",
    "        except:\n",
    "            time.sleep(1)\n",
    "        else:\n",
    "            break\n",
    "    time.sleep(3)\n",
    "    return driver\n",
    "\n",
    "def prep_meeting(config, meeting):\n",
    "    if config.url:\n",
    "        meeting.get(config.url)\n",
    "    elif config.loginID:\n",
    "        meeting.get('https://zoom.us/j')\n",
    "        elem = meeting.find_element_by_xpath('//*[@id=\"join-confno\"]')\n",
    "        elem.send_keys(link + '\\n')\n",
    "    else:\n",
    "        raise ValueError()"
   ]
  },
  {
   "cell_type": "code",
   "execution_count": 3,
   "metadata": {},
   "outputs": [],
   "source": [
    "def enter_meeting(meeting):\n",
    "    def cancel():\n",
    "        cancel = None\n",
    "        while cancel is None:\n",
    "            cancel = pyautogui.locateOnScreen('./assets/Cancel.png', grayscale=True, confidence=.8)\n",
    "            time.sleep(1)\n",
    "        pyautogui.click(cancel)\n",
    "    \n",
    "    cancel()\n",
    "    try:\n",
    "        meeting.find_element_by_xpath('//*[@id=\"zoom-ui-frame\"]/div[2]/div/div[2]/h3[2]/a').click()\n",
    "    except:\n",
    "        xpath = '//*[@id=\"zoom-ui-frame\"]/div[2]/div/div[1]/div'\n",
    "        elem = WebDriverWait(meeting, 15).until(EC.presence_of_element_located((By.XPATH, xpath)))\n",
    "        elem.click()\n",
    "        cancel()\n",
    "        meeting.find_element_by_xpath('//*[@id=\"zoom-ui-frame\"]/div[2]/div/div[2]/h3[2]/a').click()\n",
    "    meeting.find_element_by_xpath('//*[@id=\"video-icon\"]').click()\n",
    "    meeting.find_element_by_xpath('//*[@id=\"mic-icon\"]').click()\n",
    "    elem = meeting.find_element_by_xpath('//*[@id=\"joinBtn\"]')\n",
    "    elem.click()\n"
   ]
  },
  {
   "cell_type": "code",
   "execution_count": 4,
   "metadata": {},
   "outputs": [],
   "source": [
    "def maintain_meeting(config):\n",
    "    try:\n",
    "        time.sleep(2)\n",
    "        elem = meeting.find_element_by_xpath('//*[@id=\"inputpasscode\"]')\n",
    "        elem.send_keys(config.password + '\\n')\n",
    "    except:\n",
    "        0\n",
    "    xpath = '//*[@id=\"wc-footer\"]/div/div[2]/button[1]/div/div/span/span'\n",
    "    elem = WebDriverWait(meeting, 15).until(EC.presence_of_element_located((By.XPATH, xpath)))\n",
    "    count = int(elem.get_attribute('innerHTML'))\n",
    "    old = count;\n",
    "    while(count + config.thresh > old):\n",
    "        print('Participants:', count)\n",
    "        old = count\n",
    "        time.sleep(5)\n",
    "        count = int(elem.get_attribute('innerHTML'))\n",
    "    meeting.quit()"
   ]
  },
  {
   "cell_type": "code",
   "execution_count": 58,
   "metadata": {},
   "outputs": [],
   "source": [
    "def default_webcam(config, meeting):\n",
    "    if config.video_file == 0:\n",
    "        return\n",
    "    meeting.get('chrome://settings/content/camera')\n",
    "    hwnd = win32gui.FindWindow(None, 'Settings - Camera - Google Chrome')\n",
    "    win32gui.SetForegroundWindow(hwnd)\n",
    "\n",
    "    time.sleep(1)\n",
    "    loc = pyautogui.locateOnScreen('./assets/DropDown.png', grayscale=False, confidence=.8)\n",
    "    pyautogui.click(loc)\n",
    "    if type(config.video_file).__name__ == 'int':\n",
    "        for i in range(config.video_file):\n",
    "            pyautogui.press('down')\n",
    "        pyautogui.press('enter')\n",
    "    else:\n",
    "        loc = pyautogui.locateOnScreen('./assets/OBS-camera.png')\n",
    "        pyautogui.click(loc)"
   ]
  },
  {
   "cell_type": "code",
   "execution_count": 35,
   "metadata": {},
   "outputs": [],
   "source": [
    "def start(config):\n",
    "    meeting = open()\n",
    "    default_webcam(config, meeting)\n",
    "    prep_meeting(config, meeting)\n",
    "    enter_meeting(meeting)\n",
    "    maintain_meeting(meeting)"
   ]
  },
  {
   "cell_type": "code",
   "execution_count": 59,
   "metadata": {},
   "outputs": [
    {
     "ename": "ValueError",
     "evalue": "",
     "output_type": "error",
     "traceback": [
      "\u001b[1;31m---------------------------------------------------------------------------\u001b[0m",
      "\u001b[1;31mValueError\u001b[0m                                Traceback (most recent call last)",
      "\u001b[1;32m<ipython-input-59-05f39d94aecc>\u001b[0m in \u001b[0;36m<module>\u001b[1;34m\u001b[0m\n\u001b[0;32m      4\u001b[0m     \u001b[1;31m#config.loginID = # and zoom id\u001b[0m\u001b[1;33m\u001b[0m\u001b[1;33m\u001b[0m\u001b[1;33m\u001b[0m\u001b[0m\n\u001b[0;32m      5\u001b[0m     \u001b[0mconfig\u001b[0m\u001b[1;33m.\u001b[0m\u001b[0mvideo_file\u001b[0m \u001b[1;33m=\u001b[0m \u001b[1;34m'ex'\u001b[0m\u001b[1;33m\u001b[0m\u001b[1;33m\u001b[0m\u001b[0m\n\u001b[1;32m----> 6\u001b[1;33m     \u001b[0mstart\u001b[0m\u001b[1;33m(\u001b[0m\u001b[0mconfig\u001b[0m\u001b[1;33m)\u001b[0m\u001b[1;33m\u001b[0m\u001b[1;33m\u001b[0m\u001b[0m\n\u001b[0m\u001b[0;32m      7\u001b[0m \u001b[1;33m\u001b[0m\u001b[0m\n",
      "\u001b[1;32m<ipython-input-35-aaebe9f532f4>\u001b[0m in \u001b[0;36mstart\u001b[1;34m(config)\u001b[0m\n\u001b[0;32m      2\u001b[0m     \u001b[0mmeeting\u001b[0m \u001b[1;33m=\u001b[0m \u001b[0mopen\u001b[0m\u001b[1;33m(\u001b[0m\u001b[1;33m)\u001b[0m\u001b[1;33m\u001b[0m\u001b[1;33m\u001b[0m\u001b[0m\n\u001b[0;32m      3\u001b[0m     \u001b[0mdefault_webcam\u001b[0m\u001b[1;33m(\u001b[0m\u001b[0mconfig\u001b[0m\u001b[1;33m,\u001b[0m \u001b[0mmeeting\u001b[0m\u001b[1;33m)\u001b[0m\u001b[1;33m\u001b[0m\u001b[1;33m\u001b[0m\u001b[0m\n\u001b[1;32m----> 4\u001b[1;33m     \u001b[0mprep_meeting\u001b[0m\u001b[1;33m(\u001b[0m\u001b[0mconfig\u001b[0m\u001b[1;33m,\u001b[0m \u001b[0mmeeting\u001b[0m\u001b[1;33m)\u001b[0m\u001b[1;33m\u001b[0m\u001b[1;33m\u001b[0m\u001b[0m\n\u001b[0m\u001b[0;32m      5\u001b[0m     \u001b[0menter_meeting\u001b[0m\u001b[1;33m(\u001b[0m\u001b[0mmeeting\u001b[0m\u001b[1;33m)\u001b[0m\u001b[1;33m\u001b[0m\u001b[1;33m\u001b[0m\u001b[0m\n\u001b[0;32m      6\u001b[0m     \u001b[0mmaintain_meeting\u001b[0m\u001b[1;33m(\u001b[0m\u001b[0mmeeting\u001b[0m\u001b[1;33m)\u001b[0m\u001b[1;33m\u001b[0m\u001b[1;33m\u001b[0m\u001b[0m\n",
      "\u001b[1;32m<ipython-input-34-14055f8ff104>\u001b[0m in \u001b[0;36mprep_meeting\u001b[1;34m(config, meeting)\u001b[0m\n\u001b[0;32m     30\u001b[0m         \u001b[0melem\u001b[0m\u001b[1;33m.\u001b[0m\u001b[0msend_keys\u001b[0m\u001b[1;33m(\u001b[0m\u001b[0mlink\u001b[0m \u001b[1;33m+\u001b[0m \u001b[1;34m'\\n'\u001b[0m\u001b[1;33m)\u001b[0m\u001b[1;33m\u001b[0m\u001b[1;33m\u001b[0m\u001b[0m\n\u001b[0;32m     31\u001b[0m     \u001b[1;32melse\u001b[0m\u001b[1;33m:\u001b[0m\u001b[1;33m\u001b[0m\u001b[1;33m\u001b[0m\u001b[0m\n\u001b[1;32m---> 32\u001b[1;33m         \u001b[1;32mraise\u001b[0m \u001b[0mValueError\u001b[0m\u001b[1;33m(\u001b[0m\u001b[1;33m)\u001b[0m\u001b[1;33m\u001b[0m\u001b[1;33m\u001b[0m\u001b[0m\n\u001b[0m",
      "\u001b[1;31mValueError\u001b[0m: "
     ]
    }
   ],
   "source": [
    "if __name__ == '__main__':\n",
    "    #config.url = #insert test zoom link\n",
    "    #config.password = # or zoom meeting password\n",
    "    #config.loginID = # and zoom id\n",
    "    config.video_file = 'ex'\n",
    "    start(config)\n",
    "    "
   ]
  },
  {
   "cell_type": "code",
   "execution_count": null,
   "metadata": {},
   "outputs": [],
   "source": []
  }
 ],
 "metadata": {
  "kernelspec": {
   "display_name": "Python 3",
   "language": "python",
   "name": "python3"
  },
  "language_info": {
   "codemirror_mode": {
    "name": "ipython",
    "version": 3
   },
   "file_extension": ".py",
   "mimetype": "text/x-python",
   "name": "python",
   "nbconvert_exporter": "python",
   "pygments_lexer": "ipython3",
   "version": "3.7.9"
  }
 },
 "nbformat": 4,
 "nbformat_minor": 4
}
