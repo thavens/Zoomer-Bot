{
 "cells": [
  {
   "cell_type": "code",
   "execution_count": 147,
   "metadata": {},
   "outputs": [],
   "source": [
    "from selenium import webdriver\n",
    "import time\n",
    "from selenium.webdriver.chrome.options import Options\n",
    "from selenium.webdriver.support.ui import WebDriverWait\n",
    "from selenium.webdriver.support import expected_conditions as EC\n",
    "from selenium.webdriver.common.by import By\n",
    "import pyautogui\n",
    "import config"
   ]
  },
  {
   "cell_type": "code",
   "execution_count": null,
   "metadata": {},
   "outputs": [],
   "source": [
    "def open():\n",
    "    options = Options()\n",
    "    options.add_experimental_option(\"prefs\", { \\\n",
    "    \"profile.default_content_setting_values.media_stream_mic\": 1, \n",
    "    \"profile.default_content_setting_values.media_stream_camera\": 1,\n",
    "    \"download_restrictions\": 3\n",
    "  })\n",
    "    options.add_argument(\"--disable-extensions\")\n",
    "    driver = webdriver.Chrome('./chromedriver.exe', options=options)\n",
    "    driver.get('https://fuhsd-org.zoom.us/signin')\n",
    "    elem = driver.find_element_by_xpath('//*[@id=\"identifierId\"]')\n",
    "    elem.send_keys(config.zoom_username)\n",
    "    while(True):\n",
    "        try:\n",
    "            elem = driver.find_element_by_xpath('//*[@id=\"password\"]/div[1]/div/div[1]/input')\n",
    "            elem.send_keys(config.zoom_password)\n",
    "        except:\n",
    "            time.sleep(1)\n",
    "        else:\n",
    "            break\n",
    "    time.sleep(3)\n",
    "    return driver\n",
    "\n",
    "def prep_meeting(config):\n",
    "    driver = open()\n",
    "    if config.url:\n",
    "        driver.get(config.url)\n",
    "    elif config.loginID:\n",
    "        driver.get('https://zoom.us/j')\n",
    "        elem = driver.find_element_by_xpath('//*[@id=\"join-confno\"]')\n",
    "        elem.send_keys(link + '\\n')\n",
    "    else:\n",
    "        raise ValueError()\n",
    "    return driver"
   ]
  },
  {
   "cell_type": "code",
   "execution_count": 149,
   "metadata": {},
   "outputs": [],
   "source": [
    "def enter_meeting(meeting):\n",
    "    def cancel():\n",
    "        cancel = None\n",
    "        while cancel is None:\n",
    "            cancel = pyautogui.locateOnScreen('./assets/Cancel.png', grayscale=True, confidence=.8)\n",
    "            time.sleep(1)\n",
    "        pyautogui.click(cancel)\n",
    "    \n",
    "    cancel()\n",
    "    try:\n",
    "        meeting.find_element_by_xpath('//*[@id=\"zoom-ui-frame\"]/div[2]/div/div[2]/h3[2]/a').click()\n",
    "    except:\n",
    "        xpath = '//*[@id=\"zoom-ui-frame\"]/div[2]/div/div[1]/div'\n",
    "        elem = WebDriverWait(meeting, 15).until(EC.presence_of_element_located((By.XPATH, xpath)))\n",
    "        elem.click()\n",
    "        cancel()\n",
    "        meeting.find_element_by_xpath('//*[@id=\"zoom-ui-frame\"]/div[2]/div/div[2]/h3[2]/a').click()\n",
    "    meeting.find_element_by_xpath('//*[@id=\"video-icon\"]').click()\n",
    "    meeting.find_element_by_xpath('//*[@id=\"mic-icon\"]').click()\n",
    "    elem = meeting.find_element_by_xpath('//*[@id=\"joinBtn\"]')\n",
    "    elem.click()\n"
   ]
  },
  {
   "cell_type": "code",
   "execution_count": 153,
   "metadata": {},
   "outputs": [],
   "source": [
    "def maintain_meeting(config):\n",
    "    try:\n",
    "        time.sleep(2)\n",
    "        elem = meeting.find_element_by_xpath('//*[@id=\"inputpasscode\"]')\n",
    "        elem.send_keys(config.password + '\\n')\n",
    "    except:\n",
    "        0\n",
    "    xpath = '//*[@id=\"wc-footer\"]/div/div[2]/button[1]/div/div/span/span'\n",
    "    elem = WebDriverWait(meeting, 15).until(EC.presence_of_element_located((By.XPATH, xpath)))\n",
    "    count = int(elem.get_attribute('innerHTML'))\n",
    "    old = count;\n",
    "    while(count + config.thresh > old):\n",
    "        print('Participants:', count)\n",
    "        old = count\n",
    "        time.sleep(5)\n",
    "        count = int(elem.get_attribute('innerHTML'))\n",
    "    meeting.quit()"
   ]
  },
  {
   "cell_type": "code",
   "execution_count": 157,
   "metadata": {},
   "outputs": [],
   "source": [
    "def start(config):\n",
    "    meeting = prep_meeting(config)\n",
    "    enter_meeting(meeting)\n",
    "    maintain_meeting(meeting)"
   ]
  },
  {
   "cell_type": "code",
   "execution_count": null,
   "metadata": {},
   "outputs": [],
   "source": [
    "if __name__ == '__main__':\n",
    "    config.url = #insert test zoom link\n",
    "    config.password = # or zoom meeting password\n",
    "    config.loginID = # and zoom id\n",
    "    start(config)"
   ]
  }
 ],
 "metadata": {
  "kernelspec": {
   "display_name": "Python 3",
   "language": "python",
   "name": "python3"
  },
  "language_info": {
   "codemirror_mode": {
    "name": "ipython",
    "version": 3
   },
   "file_extension": ".py",
   "mimetype": "text/x-python",
   "name": "python",
   "nbconvert_exporter": "python",
   "pygments_lexer": "ipython3",
   "version": "3.7.9"
  }
 },
 "nbformat": 4,
 "nbformat_minor": 4
}
