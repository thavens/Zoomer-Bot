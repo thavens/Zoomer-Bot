{
 "cells": [
  {
   "cell_type": "code",
   "execution_count": 10,
   "metadata": {
    "scrolled": false
   },
   "outputs": [],
   "source": [
    "import subprocess\n",
    "import pyautogui\n",
    "import sys\n",
    "import os\n",
    "import time\n",
    "import pytesseract\n",
    "from PIL import Image\n",
    "import fakeWebCam\n",
    "import webbrowser\n",
    "import numpy as np\n",
    "import numpy.ma as ma\n",
    "import config\n",
    "\n",
    "pytesseract.pytesseract.tesseract_cmd = config.tesseract_path"
   ]
  },
  {
   "cell_type": "code",
   "execution_count": 4,
   "metadata": {
    "scrolled": true
   },
   "outputs": [
    {
     "name": "stdout",
     "output_type": "stream",
     "text": [
      "\u001b[36m\n",
      "      /yyooooooooo++++++:-`\n",
      "      :+ssssssssshhhhhhdddd-\n",
      "                      -hddo\n",
      "                    `sdds.\n",
      "                   -hdh:\n",
      "                 `+dds`\n",
      "       ---------/hdd+ `.-.`        `--`    `.  .-.`  `.-.`          `:+++/-.          `-::::-`\n",
      "       /yhhhhhddddy.:yhhyhhs/`  .oyhhyhyo. /hyhhyhhoohhyhho.      .sddhhhdddy-     .ddddddddddo\n",
      "        ...-ydddh/`yho-   -shs`:hh/`  `/hh:/hh/` `ohho` `+hy.    oddy:    .hdd     -ddd:    .-`\n",
      "         .sdddh/` :hy       hh:yh/      /hy+hy    `hh+    yh:   /ddddhyyyysddy     -dds\n",
      "        :dddh/`   -hh-     -hh.ohs`    `sho/hs    `yh+    yh/   +ddo/+++++s+:`     :dd/\n",
      "       +ddddossssshdhhs+:+shy- `+hho//ohh+`/hs    .hh+    yh/   `hdd/`             sdd:\n",
      "       .sddddyooooo+`-/oso/-     `:+oo+/.  :o-     /o/    -o-    `+dddy+/:::/ss-   hdh`\n",
      "                                                                    -+shhdddhyo`   ydo\n",
      "                                                                                    `\n",
      "\n",
      "                       .-////:-.`                               .ss.\n",
      "                      -dddhhhddddho/`                           +dd.\n",
      "                      `ddo    `.:oddh`                          +dd.\n",
      "                      `ddo       `ydd.                          +dd.\n",
      "                      `ddo  `.-/oddh-                      /++++hdds+++++`\n",
      "                      `dddhddddddddy/`        .:++/-`      oyyyydddyyyyyy-\n",
      "                      `dddhs+:.--/ohddo`    -yddhddddy+.        hdh\n",
      "                      :ddo          /dds   :ddy-  `-+hddo       hdh\n",
      "                      /dd:           ydd   sdd`       /dd/     .ddo\n",
      "                      +dd-          /dd+   ydh:`    `:sdd/     .dd+\n",
      "                      hdd/---.```./yddo    .odddhhhhddds-      .dd+\n",
      "                      :shddddddddddds.        .:/+++:-         `/+`\n",
      "                          ``------.\n",
      "\u001b[0m\n",
      "logging into zoom\n"
     ]
    },
    {
     "ename": "KeyboardInterrupt",
     "evalue": "",
     "output_type": "error",
     "traceback": [
      "\u001b[1;31m---------------------------------------------------------------------------\u001b[0m",
      "\u001b[1;31mKeyboardInterrupt\u001b[0m                         Traceback (most recent call last)",
      "\u001b[1;32m<ipython-input-4-ae7a057c7030>\u001b[0m in \u001b[0;36m<module>\u001b[1;34m\u001b[0m\n\u001b[0;32m     73\u001b[0m \u001b[1;32mwhile\u001b[0m \u001b[0mbgFound\u001b[0m \u001b[1;32mis\u001b[0m \u001b[1;32mNone\u001b[0m\u001b[1;33m:\u001b[0m\u001b[1;33m\u001b[0m\u001b[1;33m\u001b[0m\u001b[0m\n\u001b[0;32m     74\u001b[0m     \u001b[0mbgFound\u001b[0m \u001b[1;33m=\u001b[0m \u001b[0mpyautogui\u001b[0m\u001b[1;33m.\u001b[0m\u001b[0mlocateCenterOnScreen\u001b[0m\u001b[1;33m(\u001b[0m\u001b[0mos\u001b[0m\u001b[1;33m.\u001b[0m\u001b[0mgetcwd\u001b[0m\u001b[1;33m(\u001b[0m\u001b[1;33m)\u001b[0m \u001b[1;33m+\u001b[0m \u001b[1;34m'/assets/bg.png'\u001b[0m\u001b[1;33m,\u001b[0m \u001b[0mgrayscale\u001b[0m\u001b[1;33m=\u001b[0m\u001b[1;32mTrue\u001b[0m\u001b[1;33m,\u001b[0m \u001b[0mconfidence\u001b[0m\u001b[1;33m=\u001b[0m\u001b[1;36m1\u001b[0m\u001b[1;33m)\u001b[0m\u001b[1;33m\u001b[0m\u001b[1;33m\u001b[0m\u001b[0m\n\u001b[1;32m---> 75\u001b[1;33m     \u001b[0mtime\u001b[0m\u001b[1;33m.\u001b[0m\u001b[0msleep\u001b[0m\u001b[1;33m(\u001b[0m\u001b[1;36m10\u001b[0m\u001b[1;33m)\u001b[0m\u001b[1;33m\u001b[0m\u001b[1;33m\u001b[0m\u001b[0m\n\u001b[0m\u001b[0;32m     76\u001b[0m \u001b[0mpyautogui\u001b[0m\u001b[1;33m.\u001b[0m\u001b[0mclick\u001b[0m\u001b[1;33m(\u001b[0m\u001b[0mbgFound\u001b[0m\u001b[1;33m)\u001b[0m\u001b[1;33m\u001b[0m\u001b[1;33m\u001b[0m\u001b[0m\n",
      "\u001b[1;31mKeyboardInterrupt\u001b[0m: "
     ]
    }
   ],
   "source": [
    "print('''\\033[36m\n",
    "      /yyooooooooo++++++:-`\n",
    "      :+ssssssssshhhhhhdddd-\n",
    "                      -hddo\n",
    "                    `sdds.\n",
    "                   -hdh:\n",
    "                 `+dds`\n",
    "       ---------/hdd+ `.-.`        `--`    `.  .-.`  `.-.`          `:+++/-.          `-::::-`\n",
    "       /yhhhhhddddy.:yhhyhhs/`  .oyhhyhyo. /hyhhyhhoohhyhho.      .sddhhhdddy-     .ddddddddddo\n",
    "        ...-ydddh/`yho-   -shs`:hh/`  `/hh:/hh/` `ohho` `+hy.    oddy:    .hdd     -ddd:    .-`\n",
    "         .sdddh/` :hy       hh:yh/      /hy+hy    `hh+    yh:   /ddddhyyyysddy     -dds\n",
    "        :dddh/`   -hh-     -hh.ohs`    `sho/hs    `yh+    yh/   +ddo/+++++s+:`     :dd/\n",
    "       +ddddossssshdhhs+:+shy- `+hho//ohh+`/hs    .hh+    yh/   `hdd/`             sdd:\n",
    "       .sddddyooooo+`-/oso/-     `:+oo+/.  :o-     /o/    -o-    `+dddy+/:::/ss-   hdh`\n",
    "                                                                    -+shhdddhyo`   ydo\n",
    "                                                                                    `\n",
    "\n",
    "                       .-////:-.`                               .ss.\n",
    "                      -dddhhhddddho/`                           +dd.\n",
    "                      `ddo    `.:oddh`                          +dd.\n",
    "                      `ddo       `ydd.                          +dd.\n",
    "                      `ddo  `.-/oddh-                      /++++hdds+++++`\n",
    "                      `dddhddddddddy/`        .:++/-`      oyyyydddyyyyyy-\n",
    "                      `dddhs+:.--/ohddo`    -yddhddddy+.        hdh\n",
    "                      :ddo          /dds   :ddy-  `-+hddo       hdh\n",
    "                      /dd:           ydd   sdd`       /dd/     .ddo\n",
    "                      +dd-          /dd+   ydh:`    `:sdd/     .dd+\n",
    "                      hdd/---.```./yddo    .odddhhhhddds-      .dd+\n",
    "                      :shddddddddddds.        .:/+++:-         `/+`\n",
    "                          ``------.\n",
    "\\033[0m''')\n",
    "print('logging into zoom')\n",
    "\n",
    "if not config.loginID is None:\n",
    "    config.zoom_path = config.zoom_path.replace('\\\\', '/')\n",
    "    print(config.zoom_path)\n",
    "    try:\n",
    "        subprocess.run([config.zoom_path])\n",
    "    except:\n",
    "        print('Cannot find Zoom.exe')\n",
    "        print('Please make sure that zoom_path is correct!')\n",
    "        #sys.exit()\n",
    "    sys.exit()\n",
    "    time.sleep(0.5)\n",
    "    joinButton = pyautogui.locateCenterOnScreen(os.getcwd() + '/assets/join.png', grayscale=True, confidence=0.9)\n",
    "    pyautogui.click(joinButton)\n",
    "    time.sleep(0.5)\n",
    "    pyautogui.typewrite(config.loginID + '\\n')\n",
    "    time.sleep(1)\n",
    "    pyautogui.typewrite(config.password + '\\n')\n",
    "    loginButton = pyautogui.locateCenterOnScreen(os.getcwd() + '/assets/login.png', grayscale=True, confidence=0.9)\n",
    "    pyautogui.click(loginButton)\n",
    "    sys.exit()\n",
    "else:\n",
    "    try:\n",
    "        webbrowser.open(config.url)\n",
    "    except:\n",
    "        print('url or browser did not work')\n",
    "        sys.exit()\n",
    "    try:\n",
    "        time.sleep(1)\n",
    "        openZoom = pyautogui.locateCenterOnScreen(os.getcwd() + '/assets/openZoom.png', grayscale=True, confidence=0.9)\n",
    "        time.sleep(0.2)\n",
    "        pyautogui.click(openZoom)\n",
    "    except:\n",
    "        try:\n",
    "            time.sleep(5)\n",
    "            openZoom = pyautogui.locateCenterOnScreen(os.getcwd() + '/assets/openZoom.png', grayscale=True, confidence=0.9)\n",
    "            time.sleep(0.2)\n",
    "            pyautogui.click(openZoom)\n",
    "        except:\n",
    "            print('did not prompt to open zoom')\n",
    "    webbrowser.close()\n",
    "\n",
    "video = fakeWebCam()\n",
    "    \n",
    "bgFound = None\n",
    "while bgFound is None:\n",
    "    bgFound = pyautogui.locateCenterOnScreen(os.getcwd() + '/assets/bg.png', grayscale=True, confidence=1)\n",
    "    time.sleep(10)\n",
    "pyautogui.click(bgFound)"
   ]
  },
  {
   "cell_type": "code",
   "execution_count": 2,
   "metadata": {
    "scrolled": false
   },
   "outputs": [],
   "source": [
    "def startVideo():\n",
    "    try:\n",
    "        get_ipython().__class__.__name__\n",
    "        from threading import Thread\n",
    "        print('Warning: you are using a shell. For better speed use the interpreter.')\n",
    "        x = Thread(target=video.falseCam, daemon=True)\n",
    "    except:\n",
    "        from multiprocessing import Process\n",
    "        x = Process(target=video.falseCam, daemon=True)\n",
    "    finally:\n",
    "        x.start()\n",
    "    \n",
    "    time.sleep(3)\n",
    "    video = pyautogui.locateOnScreen(os.getcwd() + '/assets/startVideo.png', grayscale=True, confidence=0.9)\n",
    "    if video is None:\n",
    "        pyautogui.press('alt')\n",
    "        video = pyautogui.locateOnScreen(os.getcwd() + '/assets/startVideo.png', grayscale=True, confidence=0.9)\n",
    "    pyautogui.click(video[0] + video[2], video[1])\n",
    "    video = pyautogui.locateCenterOnScreen(os.getcwd() + '/assets/camName.png', grayscale=True, confidence=0.9)\n",
    "    pyautogui.click(video)\n",
    "    video = pyautogui.locateCenterOnScreen(os.getcwd() + '/assets/startVideo.png', grayscale=True, confidence=0.9)\n",
    "    pyautogui.click(video)"
   ]
  },
  {
   "cell_type": "code",
   "execution_count": 3,
   "metadata": {
    "scrolled": false
   },
   "outputs": [],
   "source": [
    "def breakout():\n",
    "    #1. enter breakout if available\n",
    "        #2. start loop to check for leave breakout\n",
    "    breakout = pyautogui.locateCenterOnScreen(os.getcwd() + '/assets/breakoutJoin.png', grayscale=True, confidence=0.9)\n",
    "    if breakout:\n",
    "        print('entered breakout')\n",
    "        pyautogui.click(breakout)\n",
    "        while True():\n",
    "            time.sleep(30)\n",
    "            leaveBreakout = pyautogui.locateCenterOnScreen(os.getcwd() + '/assets/breakoutLeave.png', grayscale=True, confidence=0.9)\n",
    "            if leaveBreakout:\n",
    "                pyautogui.click(leaveBreakout)\n",
    "                time.sleep(30)\n",
    "                return True\n",
    "    return False"
   ]
  },
  {
   "cell_type": "code",
   "execution_count": 4,
   "metadata": {
    "scrolled": false
   },
   "outputs": [],
   "source": [
    "def userCount():\n",
    "    #1. screenshot # of participants\n",
    "    #2. turn completely black and white\n",
    "    #3. save image as cap.png\n",
    "    #4. use tesseract to turn image to int\n",
    "    #5. return int value of participants\n",
    "    participantsLocation = pyautogui.locateCenterOnScreen(os.getcwd() + '/assets/participants.png', grayscale=True, confidence = 0.8)\n",
    "    if participantsLocation is None:\n",
    "        pyautogui.press('alt')\n",
    "        participantsLocation = pyautogui.locateCenterOnScreen(os.getcwd() + '/assets/participants.png', grayscale=True, confidence = 0.8)\n",
    "    people = pyautogui.screenshot()\n",
    "    people = people.crop((participantsLocation.x,\n",
    "                         participantsLocation.y-30,\n",
    "                         participantsLocation.x + 30,\n",
    "                         participantsLocation.y))\n",
    "    \n",
    "    data = np.asarray(people)\n",
    "    a = lambda a: int(np.mean(a))\n",
    "    data = np.apply_along_axis(a, -1, data)\n",
    "    data[ma.masked_greater(data, 130).mask] = 255\n",
    "    data[ma.masked_less_equal(data, 130).mask] = 0\n",
    "    data = 255 - data\n",
    "    data = data.flatten()\n",
    "    img = np.array([])\n",
    "    for i in data:\n",
    "        img = np.append(img, np.array([i, i, i], dtype=np.int32))\n",
    "    img = np.reshape(img, (30,30,3))\n",
    "    img = img.astype(np.uint8)\n",
    "    people = Image.fromarray(img)\n",
    "    people = people.resize((300, 300), Image.BILINEAR)\n",
    "    people.save(os.getcwd() + '/assets/cap.png')\n",
    "    \n",
    "    text = pytesseract.image_to_string(img, lang='eng', config='--psm 7 digits')\n",
    "    #text = text[:text.index('\\n')]\n",
    "    text = text.strip()\n",
    "    return int(text)"
   ]
  },
  {
   "cell_type": "code",
   "execution_count": 5,
   "metadata": {
    "scrolled": true
   },
   "outputs": [],
   "source": [
    "def leave():\n",
    "    #click leave and confirm leave\n",
    "    print('leaving meeting')\n",
    "    leave = pyautogui.locateCenterOnScreen(os.getcwd() + '/assets/leave.png', grayscale=True, confidence=0.9)\n",
    "    if leave is None:\n",
    "        pyautogui.press('alt')\n",
    "        leave = pyautogui.locateCenterOnScreen(os.getcwd() + '/assets/leave.png', grayscale=True, confidence=0.9)\n",
    "    pyautogui.click(leave)\n",
    "    leave = pyautogui.locateCenterOnScreen(os.getcwd() + '/assets/leaveConfirm.png', grayscale=True, confidence=0.9)\n",
    "    pyautogui.click(leave)"
   ]
  },
  {
   "cell_type": "code",
   "execution_count": 13,
   "metadata": {
    "scrolled": true
   },
   "outputs": [
    {
     "name": "stdout",
     "output_type": "stream",
     "text": [
      "30 users\n",
      "6 users\n",
      "Users leaving\n",
      "leaving meeting\n"
     ]
    },
    {
     "ename": "AttributeError",
     "evalue": "'NoneType' object has no attribute 'x'",
     "output_type": "error",
     "traceback": [
      "\u001b[1;31m---------------------------------------------------------------------------\u001b[0m",
      "\u001b[1;31mAttributeError\u001b[0m                            Traceback (most recent call last)",
      "\u001b[1;32m<ipython-input-13-be24b937ebf4>\u001b[0m in \u001b[0;36m<module>\u001b[1;34m\u001b[0m\n\u001b[0;32m      7\u001b[0m         \u001b[1;32mif\u001b[0m \u001b[0mbreakout\u001b[0m\u001b[1;33m(\u001b[0m\u001b[1;33m)\u001b[0m\u001b[1;33m:\u001b[0m\u001b[1;33m\u001b[0m\u001b[1;33m\u001b[0m\u001b[0m\n\u001b[0;32m      8\u001b[0m             \u001b[0mold\u001b[0m \u001b[1;33m=\u001b[0m \u001b[1;32mNone\u001b[0m\u001b[1;33m\u001b[0m\u001b[1;33m\u001b[0m\u001b[0m\n\u001b[1;32m----> 9\u001b[1;33m         \u001b[0mcount\u001b[0m \u001b[1;33m=\u001b[0m \u001b[0muserCount\u001b[0m\u001b[1;33m(\u001b[0m\u001b[1;33m)\u001b[0m\u001b[1;33m\u001b[0m\u001b[1;33m\u001b[0m\u001b[0m\n\u001b[0m\u001b[0;32m     10\u001b[0m         \u001b[0mprint\u001b[0m\u001b[1;33m(\u001b[0m\u001b[0mcount\u001b[0m\u001b[1;33m,\u001b[0m \u001b[1;34m'users'\u001b[0m\u001b[1;33m)\u001b[0m\u001b[1;33m\u001b[0m\u001b[1;33m\u001b[0m\u001b[0m\n\u001b[0;32m     11\u001b[0m         \u001b[1;32mif\u001b[0m \u001b[0mold\u001b[0m \u001b[1;33m!=\u001b[0m \u001b[1;32mNone\u001b[0m \u001b[1;32mand\u001b[0m \u001b[0mold\u001b[0m \u001b[1;33m-\u001b[0m \u001b[0mcount\u001b[0m \u001b[1;33m>\u001b[0m \u001b[0mconfig\u001b[0m\u001b[1;33m.\u001b[0m\u001b[0mthresh\u001b[0m\u001b[1;33m:\u001b[0m\u001b[1;33m\u001b[0m\u001b[1;33m\u001b[0m\u001b[0m\n",
      "\u001b[1;32m<ipython-input-4-910529a3b926>\u001b[0m in \u001b[0;36muserCount\u001b[1;34m()\u001b[0m\n\u001b[0;32m     10\u001b[0m         \u001b[0mparticipantsLocation\u001b[0m \u001b[1;33m=\u001b[0m \u001b[0mpyautogui\u001b[0m\u001b[1;33m.\u001b[0m\u001b[0mlocateCenterOnScreen\u001b[0m\u001b[1;33m(\u001b[0m\u001b[0mos\u001b[0m\u001b[1;33m.\u001b[0m\u001b[0mgetcwd\u001b[0m\u001b[1;33m(\u001b[0m\u001b[1;33m)\u001b[0m \u001b[1;33m+\u001b[0m \u001b[1;34m'/assets/participants.png'\u001b[0m\u001b[1;33m,\u001b[0m \u001b[0mgrayscale\u001b[0m\u001b[1;33m=\u001b[0m\u001b[1;32mTrue\u001b[0m\u001b[1;33m,\u001b[0m \u001b[0mconfidence\u001b[0m \u001b[1;33m=\u001b[0m \u001b[1;36m0.8\u001b[0m\u001b[1;33m)\u001b[0m\u001b[1;33m\u001b[0m\u001b[1;33m\u001b[0m\u001b[0m\n\u001b[0;32m     11\u001b[0m     \u001b[0mpeople\u001b[0m \u001b[1;33m=\u001b[0m \u001b[0mpyautogui\u001b[0m\u001b[1;33m.\u001b[0m\u001b[0mscreenshot\u001b[0m\u001b[1;33m(\u001b[0m\u001b[1;33m)\u001b[0m\u001b[1;33m\u001b[0m\u001b[1;33m\u001b[0m\u001b[0m\n\u001b[1;32m---> 12\u001b[1;33m     people = people.crop((participantsLocation.x,\n\u001b[0m\u001b[0;32m     13\u001b[0m                          \u001b[0mparticipantsLocation\u001b[0m\u001b[1;33m.\u001b[0m\u001b[0my\u001b[0m\u001b[1;33m-\u001b[0m\u001b[1;36m30\u001b[0m\u001b[1;33m,\u001b[0m\u001b[1;33m\u001b[0m\u001b[1;33m\u001b[0m\u001b[0m\n\u001b[0;32m     14\u001b[0m                          \u001b[0mparticipantsLocation\u001b[0m\u001b[1;33m.\u001b[0m\u001b[0mx\u001b[0m \u001b[1;33m+\u001b[0m \u001b[1;36m30\u001b[0m\u001b[1;33m,\u001b[0m\u001b[1;33m\u001b[0m\u001b[1;33m\u001b[0m\u001b[0m\n",
      "\u001b[1;31mAttributeError\u001b[0m: 'NoneType' object has no attribute 'x'"
     ]
    }
   ],
   "source": [
    "if __name__ == '__main__':\n",
    "    if config.webcam:\n",
    "        startVideo()\n",
    "    old = None\n",
    "    while True:\n",
    "        time.sleep(5)\n",
    "        if breakout():\n",
    "            old = None\n",
    "        count = userCount()\n",
    "        print(count, 'users')\n",
    "        if old != None and old - count > config.thresh:\n",
    "            print('Users leaving')\n",
    "            leave()\n",
    "            break\n",
    "        old = count"
   ]
  },
  {
   "cell_type": "code",
   "execution_count": null,
   "metadata": {
    "scrolled": false
   },
   "outputs": [],
   "source": []
  },
  {
   "cell_type": "code",
   "execution_count": null,
   "metadata": {
    "scrolled": false
   },
   "outputs": [],
   "source": []
  },
  {
   "cell_type": "code",
   "execution_count": null,
   "metadata": {
    "scrolled": false
   },
   "outputs": [],
   "source": []
  },
  {
   "cell_type": "code",
   "execution_count": null,
   "metadata": {
    "scrolled": false
   },
   "outputs": [],
   "source": []
  },
  {
   "cell_type": "code",
   "execution_count": null,
   "metadata": {
    "scrolled": false
   },
   "outputs": [],
   "source": []
  },
  {
   "cell_type": "code",
   "execution_count": null,
   "metadata": {
    "scrolled": false
   },
   "outputs": [],
   "source": []
  },
  {
   "cell_type": "code",
   "execution_count": null,
   "metadata": {},
   "outputs": [],
   "source": []
  }
 ],
 "metadata": {
  "kernelspec": {
   "display_name": "Python 3",
   "language": "python",
   "name": "python3"
  },
  "language_info": {
   "codemirror_mode": {
    "name": "ipython",
    "version": 3
   },
   "file_extension": ".py",
   "mimetype": "text/x-python",
   "name": "python",
   "nbconvert_exporter": "python",
   "pygments_lexer": "ipython3",
   "version": "3.7.9"
  }
 },
 "nbformat": 4,
 "nbformat_minor": 4
}
